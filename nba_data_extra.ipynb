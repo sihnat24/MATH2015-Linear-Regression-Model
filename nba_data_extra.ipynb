{
 "cells": [
  {
   "cell_type": "markdown",
   "metadata": {},
   "source": [
    "# Linear Regression Model with Player Statistics\n",
    "\n",
    "**Version**: 1.0  \n",
    "**Author**: Sev Ihnat  \n",
    "**Date**: 2024-11-06  \n",
    "\n",
    "**Summary**:  \n",
    "This notebook implements a linear regression model using player statistics from the balldontlie API.  \n",
    "The model is trained to predict outcomes based on various features that are still being decided.\n"
   ]
  },
  {
   "cell_type": "code",
   "execution_count": null,
   "metadata": {},
   "outputs": [],
   "source": [
    "#import python libraries and define urls used by the API\n",
    "\n",
    "#used for interaction with api\n",
    "import requests\n",
    "\n",
    "#libraries for linear regression\n",
    "import pandas as pd\n",
    "from sklearn.model_selection import train_test_split\n",
    "from sklearn.linear_model import LinearRegression\n",
    "from sklearn.metrics import mean_squared_error\n"
   ]
  },
  {
   "cell_type": "markdown",
   "metadata": {},
   "source": [
    "# Data Extraction"
   ]
  },
  {
   "cell_type": "code",
   "execution_count": null,
   "metadata": {},
   "outputs": [],
   "source": [
    "#define the api endpoint and key\n",
    "teams_url = \"https://api.balldontlie.io/v1/teams\"\n",
    "players_url = \"https://api.balldontlie.io/v1/players\"\n",
    "specific_team_url = \"https://api.balldontlie.io/v1/teams/<ID>\" #you need to fill in the ID spot yourself\n",
    "specific_player_url = \"https://api.balldontlie.io/v1/players/<ID>\"\n",
    "sev_key = \"b0318158-d862-4ee5-a46b-a1bcaf633e89\""
   ]
  },
  {
   "cell_type": "code",
   "execution_count": null,
   "metadata": {},
   "outputs": [],
   "source": [
    "#function for getting data from the api\n",
    "def fetch_api_data(url, key):\n",
    "    \"\"\"\n",
    "    Sends a GET request to the provided API endpoint and returns the JSON data.\n",
    "    \n",
    "    Parameters\n",
    "    - url (str): The API endpoint URL\n",
    "    - api_key (str): Your authorization key for the API\n",
    "    \n",
    "    Output\n",
    "    - dict: Parsed JSON data if the request is successful\n",
    "    - None if unsuccessful\n",
    "    \"\"\"\n",
    "\n",
    "    headers = {\n",
    "        \"Authorization\": key\n",
    "    }\n",
    "\n",
    "    try:\n",
    "        #send a get request with headers\n",
    "        response = requests.get(url, headers=headers)\n",
    "        if response.status_code == 200:\n",
    "            data = response.json()\n",
    "            return data\n",
    "        else:\n",
    "            print('failed to retrieve data', response.status_code)\n",
    "            return None\n",
    "        \n",
    "    except requests.exceptions.RequestException as e:\n",
    "        print(\"Error occurred \", e)\n",
    "        return None\n",
    "    \n",
    "\n",
    "#testing whether fetch API works, uncomment the two lines below to test whether the function works or not\n",
    "#data = fetch_api_data(players_url, sev_key)\n",
    "#print(data)"
   ]
  },
  {
   "cell_type": "markdown",
   "metadata": {},
   "source": [
    "# Linear Regression Model"
   ]
  },
  {
   "cell_type": "code",
   "execution_count": null,
   "metadata": {},
   "outputs": [
    {
     "name": "stdout",
     "output_type": "stream",
     "text": [
      "{'data': [{'id': 1, 'first_name': 'Alex', 'last_name': 'Abrines', 'position': 'G', 'height': '6-6', 'weight': '190', 'jersey_number': '8', 'college': 'FC Barcelona', 'country': 'Spain', 'draft_year': 2013, 'draft_round': 2, 'draft_number': 32, 'team': {'id': 21, 'conference': 'West', 'division': 'Northwest', 'city': 'Oklahoma City', 'name': 'Thunder', 'full_name': 'Oklahoma City Thunder', 'abbreviation': 'OKC'}}, {'id': 2, 'first_name': 'Jaylen', 'last_name': 'Adams', 'position': 'G', 'height': '6-0', 'weight': '225', 'jersey_number': '10', 'college': 'St. Bonaventure', 'country': 'USA', 'draft_year': None, 'draft_round': None, 'draft_number': None, 'team': {'id': 1, 'conference': 'East', 'division': 'Southeast', 'city': 'Atlanta', 'name': 'Hawks', 'full_name': 'Atlanta Hawks', 'abbreviation': 'ATL'}}, {'id': 3, 'first_name': 'Steven', 'last_name': 'Adams', 'position': 'C', 'height': '6-11', 'weight': '265', 'jersey_number': '12', 'college': 'Pittsburgh', 'country': 'New Zealand', 'draft_year': 2013, 'draft_round': 1, 'draft_number': 12, 'team': {'id': 11, 'conference': 'West', 'division': 'Southwest', 'city': 'Houston', 'name': 'Rockets', 'full_name': 'Houston Rockets', 'abbreviation': 'HOU'}}, {'id': 4, 'first_name': 'Bam', 'last_name': 'Adebayo', 'position': 'C-F', 'height': '6-9', 'weight': '255', 'jersey_number': '13', 'college': 'Kentucky', 'country': 'USA', 'draft_year': 2017, 'draft_round': 1, 'draft_number': 14, 'team': {'id': 16, 'conference': 'East', 'division': 'Southeast', 'city': 'Miami', 'name': 'Heat', 'full_name': 'Miami Heat', 'abbreviation': 'MIA'}}, {'id': 5, 'first_name': 'DeVaughn', 'last_name': 'Akoon-Purcell', 'position': 'G-F', 'height': '6-5', 'weight': '201', 'jersey_number': '44', 'college': 'Illinois State', 'country': 'Trinidad and Tobago', 'draft_year': 2016, 'draft_round': None, 'draft_number': None, 'team': {'id': 8, 'conference': 'West', 'division': 'Northwest', 'city': 'Denver', 'name': 'Nuggets', 'full_name': 'Denver Nuggets', 'abbreviation': 'DEN'}}, {'id': 6, 'first_name': 'LaMarcus', 'last_name': 'Aldridge', 'position': 'F', 'height': '6-11', 'weight': '250', 'jersey_number': '21', 'college': 'University of Texas at Austin', 'country': 'USA', 'draft_year': 2006, 'draft_round': 1, 'draft_number': 2, 'team': {'id': 3, 'conference': 'East', 'division': 'Atlantic', 'city': 'Brooklyn', 'name': 'Nets', 'full_name': 'Brooklyn Nets', 'abbreviation': 'BKN'}}, {'id': 7, 'first_name': 'Rawle', 'last_name': 'Alkins', 'position': 'G', 'height': '6-5', 'weight': '225', 'jersey_number': '20', 'college': 'Arizona', 'country': 'USA', 'draft_year': None, 'draft_round': None, 'draft_number': None, 'team': {'id': 5, 'conference': 'East', 'division': 'Central', 'city': 'Chicago', 'name': 'Bulls', 'full_name': 'Chicago Bulls', 'abbreviation': 'CHI'}}, {'id': 8, 'first_name': 'Grayson', 'last_name': 'Allen', 'position': 'G', 'height': '6-4', 'weight': '198', 'jersey_number': '8', 'college': 'Duke', 'country': 'USA', 'draft_year': 2018, 'draft_round': 1, 'draft_number': 21, 'team': {'id': 24, 'conference': 'West', 'division': 'Pacific', 'city': 'Phoenix', 'name': 'Suns', 'full_name': 'Phoenix Suns', 'abbreviation': 'PHX'}}, {'id': 9, 'first_name': 'Jarrett', 'last_name': 'Allen', 'position': 'C', 'height': '6-9', 'weight': '243', 'jersey_number': '31', 'college': 'Texas', 'country': 'USA', 'draft_year': 2017, 'draft_round': 1, 'draft_number': 22, 'team': {'id': 6, 'conference': 'East', 'division': 'Central', 'city': 'Cleveland', 'name': 'Cavaliers', 'full_name': 'Cleveland Cavaliers', 'abbreviation': 'CLE'}}, {'id': 10, 'first_name': 'Al-Farouq', 'last_name': 'Aminu', 'position': 'F', 'height': '6-8', 'weight': '220', 'jersey_number': '5', 'college': 'Wake Forest', 'country': 'USA', 'draft_year': 2010, 'draft_round': 1, 'draft_number': 8, 'team': {'id': 25, 'conference': 'West', 'division': 'Northwest', 'city': 'Portland', 'name': 'Trail Blazers', 'full_name': 'Portland Trail Blazers', 'abbreviation': 'POR'}}, {'id': 11, 'first_name': 'Justin', 'last_name': 'Anderson', 'position': 'G-F', 'height': '6-5', 'weight': '231', 'jersey_number': '10', 'college': 'Virginia', 'country': 'USA', 'draft_year': 2015, 'draft_round': 1, 'draft_number': 21, 'team': {'id': 12, 'conference': 'East', 'division': 'Central', 'city': 'Indiana', 'name': 'Pacers', 'full_name': 'Indiana Pacers', 'abbreviation': 'IND'}}, {'id': 12, 'first_name': 'Kyle', 'last_name': 'Anderson', 'position': 'F', 'height': '6-9', 'weight': '230', 'jersey_number': '1', 'college': 'UCLA', 'country': 'USA', 'draft_year': 2014, 'draft_round': 1, 'draft_number': 30, 'team': {'id': 10, 'conference': 'West', 'division': 'Pacific', 'city': 'Golden State', 'name': 'Warriors', 'full_name': 'Golden State Warriors', 'abbreviation': 'GSW'}}, {'id': 13, 'first_name': 'Ryan', 'last_name': 'Anderson', 'position': 'F', 'height': '6-10', 'weight': '240', 'jersey_number': '31', 'college': 'California', 'country': 'USA', 'draft_year': 2008, 'draft_round': 1, 'draft_number': 21, 'team': {'id': 19, 'conference': 'West', 'division': 'Southwest', 'city': 'New Orleans', 'name': 'Pelicans', 'full_name': 'New Orleans Pelicans', 'abbreviation': 'NOP'}}, {'id': 14, 'first_name': 'Ike', 'last_name': 'Anigbogu', 'position': 'C', 'height': '6-10', 'weight': '262', 'jersey_number': '13', 'college': 'UCLA', 'country': 'USA', 'draft_year': 2017, 'draft_round': 2, 'draft_number': 47, 'team': {'id': 12, 'conference': 'East', 'division': 'Central', 'city': 'Indiana', 'name': 'Pacers', 'full_name': 'Indiana Pacers', 'abbreviation': 'IND'}}, {'id': 15, 'first_name': 'Giannis', 'last_name': 'Antetokounmpo', 'position': 'F', 'height': '6-11', 'weight': '243', 'jersey_number': '34', 'college': 'Filathlitikos', 'country': 'Greece', 'draft_year': 2013, 'draft_round': 1, 'draft_number': 15, 'team': {'id': 17, 'conference': 'East', 'division': 'Central', 'city': 'Milwaukee', 'name': 'Bucks', 'full_name': 'Milwaukee Bucks', 'abbreviation': 'MIL'}}, {'id': 16, 'first_name': 'Kostas', 'last_name': 'Antetokounmpo', 'position': 'F', 'height': '6-10', 'weight': '200', 'jersey_number': '37', 'college': 'Dayton', 'country': 'Greece', 'draft_year': 2018, 'draft_round': 2, 'draft_number': 60, 'team': {'id': 5, 'conference': 'East', 'division': 'Central', 'city': 'Chicago', 'name': 'Bulls', 'full_name': 'Chicago Bulls', 'abbreviation': 'CHI'}}, {'id': 17, 'first_name': 'Carmelo', 'last_name': 'Anthony', 'position': 'F', 'height': '6-7', 'weight': '238', 'jersey_number': '7', 'college': 'Syracuse', 'country': 'USA', 'draft_year': 2003, 'draft_round': 1, 'draft_number': 3, 'team': {'id': 14, 'conference': 'West', 'division': 'Pacific', 'city': 'Los Angeles', 'name': 'Lakers', 'full_name': 'Los Angeles Lakers', 'abbreviation': 'LAL'}}, {'id': 18, 'first_name': 'OG', 'last_name': 'Anunoby', 'position': 'F', 'height': '6-7', 'weight': '240', 'jersey_number': '8', 'college': 'Indiana', 'country': 'United Kingdom', 'draft_year': 2017, 'draft_round': 1, 'draft_number': 23, 'team': {'id': 20, 'conference': 'East', 'division': 'Atlantic', 'city': 'New York', 'name': 'Knicks', 'full_name': 'New York Knicks', 'abbreviation': 'NYK'}}, {'id': 19, 'first_name': 'Ryan', 'last_name': 'Arcidiacono', 'position': 'G', 'height': '6-3', 'weight': '195', 'jersey_number': '51', 'college': 'Villanova', 'country': 'USA', 'draft_year': None, 'draft_round': None, 'draft_number': None, 'team': {'id': 20, 'conference': 'East', 'division': 'Atlantic', 'city': 'New York', 'name': 'Knicks', 'full_name': 'New York Knicks', 'abbreviation': 'NYK'}}, {'id': 20, 'first_name': 'Trevor', 'last_name': 'Ariza', 'position': 'F', 'height': '6-8', 'weight': '215', 'jersey_number': '8', 'college': 'UCLA', 'country': 'USA', 'draft_year': 2004, 'draft_round': 2, 'draft_number': 43, 'team': {'id': 14, 'conference': 'West', 'division': 'Pacific', 'city': 'Los Angeles', 'name': 'Lakers', 'full_name': 'Los Angeles Lakers', 'abbreviation': 'LAL'}}, {'id': 21, 'first_name': 'D.J.', 'last_name': 'Augustin', 'position': 'G', 'height': '5-11', 'weight': '183', 'jersey_number': '4', 'college': 'Texas', 'country': 'USA', 'draft_year': 2008, 'draft_round': 1, 'draft_number': 9, 'team': {'id': 14, 'conference': 'West', 'division': 'Pacific', 'city': 'Los Angeles', 'name': 'Lakers', 'full_name': 'Los Angeles Lakers', 'abbreviation': 'LAL'}}, {'id': 22, 'first_name': 'Deandre', 'last_name': 'Ayton', 'position': 'C', 'height': '7-0', 'weight': '252', 'jersey_number': '2', 'college': 'Arizona', 'country': 'Bahamas', 'draft_year': 2018, 'draft_round': 1, 'draft_number': 1, 'team': {'id': 25, 'conference': 'West', 'division': 'Northwest', 'city': 'Portland', 'name': 'Trail Blazers', 'full_name': 'Portland Trail Blazers', 'abbreviation': 'POR'}}, {'id': 23, 'first_name': 'Dwayne', 'last_name': 'Bacon', 'position': 'G-F', 'height': '6-6', 'weight': '221', 'jersey_number': '8', 'college': 'Florida State', 'country': 'USA', 'draft_year': 2017, 'draft_round': 2, 'draft_number': 40, 'team': {'id': 14, 'conference': 'West', 'division': 'Pacific', 'city': 'Los Angeles', 'name': 'Lakers', 'full_name': 'Los Angeles Lakers', 'abbreviation': 'LAL'}}, {'id': 24, 'first_name': 'Marvin', 'last_name': 'Bagley III', 'position': 'F', 'height': '6-10', 'weight': '235', 'jersey_number': '35', 'college': 'Duke', 'country': 'USA', 'draft_year': 2018, 'draft_round': 1, 'draft_number': 2, 'team': {'id': 30, 'conference': 'East', 'division': 'Southeast', 'city': 'Washington', 'name': 'Wizards', 'full_name': 'Washington Wizards', 'abbreviation': 'WAS'}}, {'id': 25, 'first_name': 'Ron', 'last_name': 'Baker', 'position': 'G', 'height': '6-4', 'weight': '220', 'jersey_number': '31', 'college': 'Wichita State', 'country': 'USA', 'draft_year': None, 'draft_round': None, 'draft_number': None, 'team': {'id': 20, 'conference': 'East', 'division': 'Atlantic', 'city': 'New York', 'name': 'Knicks', 'full_name': 'New York Knicks', 'abbreviation': 'NYK'}}], 'meta': {'next_cursor': 25, 'per_page': 25}}\n"
     ]
    }
   ],
   "source": [
    "\n"
   ]
  }
 ],
 "metadata": {
  "language_info": {
   "name": "python"
  }
 },
 "nbformat": 4,
 "nbformat_minor": 2
}
